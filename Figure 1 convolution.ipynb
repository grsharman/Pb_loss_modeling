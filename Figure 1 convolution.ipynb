{
 "cells": [
  {
   "cell_type": "markdown",
   "id": "saving-center",
   "metadata": {},
   "source": [
    "#### Illustration of the convolution of normal and exponential distributions\n",
    "##### Accompanyment to \"Modeling apparent Pb loss in zircon U-Pb geochronology\", submitted to Geochronology\n",
    "By: Glenn R. Sharman, Department of Geosciences, University of Arkansas"
   ]
  },
  {
   "cell_type": "code",
   "execution_count": null,
   "id": "comparable-award",
   "metadata": {},
   "outputs": [],
   "source": [
    "# Import required libraries\n",
    "from scipy.stats import exponnorm\n",
    "from scipy.stats import norm\n",
    "from scipy.stats import expon\n",
    "from scipy.signal import convolve\n",
    "import matplotlib.pyplot as plt\n",
    "import matplotlib\n",
    "matplotlib.rcParams['pdf.fonttype'] = 42 # For allowing preservation of fonts upon importing into Adobe Illustrator\n",
    "matplotlib.rcParams['ps.fonttype'] = 42\n",
    "import numpy as np"
   ]
  },
  {
   "cell_type": "code",
   "execution_count": null,
   "id": "indian-window",
   "metadata": {},
   "outputs": [],
   "source": [
    "# Define the parameters of the normal and exponential distributions\n",
    "\n",
    "mu = 0 # Mean, in %\n",
    "omega = 1.5 # Standard deviation of the normal distribution, in %\n",
    "scale = 2.0 # Scale parameter of the exponential distribution that characterizes Pb loss\n",
    "\n",
    "n = 10000 # Number of analyses drawn from each distribution\n",
    "\n",
    "xdif = 0.1 # X-axis discretization interval\n",
    "x1 = -100 # Lower x-axis for plotting, in %\n",
    "x2 = 100 # Upper x-axis for plotting, in %\n",
    "x = np.arange(x1, x2+xdif, xdif)"
   ]
  },
  {
   "cell_type": "code",
   "execution_count": null,
   "id": "viral-split",
   "metadata": {},
   "outputs": [],
   "source": [
    "# Define the Gaussian distribution pdf and sample it randomly\n",
    "rv_norm = norm(loc = mu, scale = omega)\n",
    "norm_pdf = rv_norm.pdf(x)\n",
    "norm_pdf = norm_pdf/np.sum(norm_pdf) # Normalize so area under the curve = 1\n",
    "norm_n = rv_norm.rvs(size=n) # Draw randomly from the normal distribution"
   ]
  },
  {
   "cell_type": "code",
   "execution_count": null,
   "id": "painted-jerusalem",
   "metadata": {},
   "outputs": [],
   "source": [
    "# Define the exponential distribution pdf and sample it randomly\n",
    "rv_expon = expon(loc = mu, scale = scale)\n",
    "expon_pdf = expon.pdf(x=-x, loc=mu, scale=scale)\n",
    "expon_n = -rv_expon.rvs(size=n) # Draw randomly from the normal distribution. Note: Pb loss is negative by the convention used herein\n",
    "expon_n[expon_n < -100] = -100 # Limit the amount of Pb loss possible to 100%"
   ]
  },
  {
   "cell_type": "code",
   "execution_count": null,
   "id": "average-beach",
   "metadata": {},
   "outputs": [],
   "source": [
    "# Convolve the Gaussian and exponential distributions\n",
    "conv_pdf = convolve(expon_pdf, norm_pdf, mode='same')\n",
    "conv_pdf = conv_pdf/np.sum(conv_pdf)"
   ]
  },
  {
   "cell_type": "code",
   "execution_count": null,
   "id": "potential-tanzania",
   "metadata": {},
   "outputs": [],
   "source": [
    "# Define the exponentially modified Gaussian distribution pdf\n",
    "exponnorm_pdf = exponnorm.pdf(x=-x, loc=mu, K = 1/(omega*1/scale), scale=omega)\n",
    "exponnorm_pdf = exponnorm_pdf/np.sum(exponnorm_pdf) # Normalize so area under the curve = 1"
   ]
  },
  {
   "cell_type": "code",
   "execution_count": null,
   "id": "abandoned-illness",
   "metadata": {},
   "outputs": [],
   "source": [
    "# Add the two random, independent variables (Gaussian and exponential)\n",
    "exponnorm_n = norm_n + expon_n"
   ]
  },
  {
   "cell_type": "code",
   "execution_count": null,
   "id": "further-spoke",
   "metadata": {},
   "outputs": [],
   "source": [
    "# Create a figure to illustrate the results\n",
    "fig, axs = plt.subplots(1, 3, figsize=(8, 2))\n",
    "\n",
    "# X-axis plotting limits\n",
    "x_1 = -10\n",
    "x_2 = 10\n",
    "\n",
    "bins = np.arange(x_1, x_2+1, 1)\n",
    "\n",
    "axs[0].plot(x, norm_pdf, color='black')\n",
    "axs[0].set_ylim(0,)\n",
    "axs[0].set_xlim(x_1, x_2)\n",
    "axs[0].set_yticks([])\n",
    "ax0_hist = axs[0].twinx()\n",
    "ax0_hist.hist(norm_n, alpha=0.5, bins=25, color='gray')\n",
    "axs[0].set_xlabel('Age offset (%)')\n",
    "\n",
    "\n",
    "axs[1].plot(x, expon_pdf, color='black')\n",
    "axs[1].set_ylim(0,)\n",
    "axs[1].set_xlim(x_1, 0)\n",
    "axs[1].set_yticks([])\n",
    "ax1_hist = axs[1].twinx()\n",
    "ax1_hist.hist(expon_n, alpha=0.5, bins=25, color='gray')\n",
    "axs[1].set_xlabel('Age offset (%)')\n",
    "\n",
    "axs[2].plot(x, conv_pdf, color='black')\n",
    "axs[2].plot(x, exponnorm_pdf, '--', color='red')\n",
    "axs[2].set_ylim(0,)\n",
    "axs[2].set_xlim(x_1, x_2)\n",
    "axs[2].set_yticks([])\n",
    "ax2_hist = axs[2].twinx()\n",
    "ax2_hist.hist(exponnorm_n, alpha=0.5, bins=bins, color='gray');\n",
    "axs[2].set_xlabel('Age offset (%)')\n",
    "\n",
    "plt.tight_layout()"
   ]
  },
  {
   "cell_type": "code",
   "execution_count": null,
   "id": "micro-hamburg",
   "metadata": {},
   "outputs": [],
   "source": []
  }
 ],
 "metadata": {
  "kernelspec": {
   "display_name": "Python 3",
   "language": "python",
   "name": "python3"
  },
  "language_info": {
   "codemirror_mode": {
    "name": "ipython",
    "version": 3
   },
   "file_extension": ".py",
   "mimetype": "text/x-python",
   "name": "python",
   "nbconvert_exporter": "python",
   "pygments_lexer": "ipython3",
   "version": "3.7.3"
  }
 },
 "nbformat": 4,
 "nbformat_minor": 5
}
