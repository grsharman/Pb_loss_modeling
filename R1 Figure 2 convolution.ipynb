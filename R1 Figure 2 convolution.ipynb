{
 "cells": [
  {
   "cell_type": "markdown",
   "id": "saving-center",
   "metadata": {},
   "source": [
    "#### Illustration of the convolution of normal and logit-normal distributions\n",
    "##### Accompanyment to \"Modeling apparent Pb loss in zircon U-Pb geochronology\", submitted to Geochronology (gchron-2023-6)\n",
    "##### Revision 1 (R1) August 2023\n",
    "By: Glenn R. Sharman, Department of Geosciences, University of Arkansas"
   ]
  },
  {
   "cell_type": "code",
   "execution_count": null,
   "id": "comparable-award",
   "metadata": {},
   "outputs": [],
   "source": [
    "# Import required libraries\n",
    "from scipy.stats import norm\n",
    "from scipy.signal import convolve\n",
    "\n",
    "import convFuncs as convFunc\n",
    "\n",
    "import matplotlib.pyplot as plt\n",
    "import matplotlib\n",
    "matplotlib.rcParams['pdf.fonttype'] = 42 # For allowing preservation of fonts upon importing into Adobe Illustrator\n",
    "matplotlib.rcParams['ps.fonttype'] = 42\n",
    "import numpy as np"
   ]
  },
  {
   "cell_type": "code",
   "execution_count": null,
   "id": "indian-window",
   "metadata": {},
   "outputs": [],
   "source": [
    "# Define the parameters of the normal and logit-normal distributions\n",
    "\n",
    "mu = 0 # Mean of normal distribution, in %\n",
    "omega = 1.5 # Standard deviation of the normal distribution, in %\n",
    "\n",
    "m = -4.5 # mu of logit-normal distribution\n",
    "s = 1 # sigma of logit-normal distribution\n",
    "\n",
    "n = 2000 # Number of analyses drawn from each distribution\n",
    "\n",
    "xdif = 0.01 # X-axis discretization interval\n",
    "x1 = -100 # Lower x-axis for plotting, in %\n",
    "x2 = 100 # Upper x-axis for plotting, in %\n",
    "x = np.arange(x1, x2+xdif, xdif)"
   ]
  },
  {
   "cell_type": "code",
   "execution_count": null,
   "id": "viral-split",
   "metadata": {},
   "outputs": [],
   "source": [
    "# Define the Gaussian distribution pdf and sample it randomly\n",
    "rv_norm = norm(loc = mu, scale = omega)\n",
    "norm_pdf = rv_norm.pdf(x)\n",
    "norm_pdf = norm_pdf/np.sum(norm_pdf) # Normalize so area under the curve = 1\n",
    "norm_n = rv_norm.rvs(size=n) # Draw randomly from the normal distribution"
   ]
  },
  {
   "cell_type": "code",
   "execution_count": null,
   "id": "painted-jerusalem",
   "metadata": {},
   "outputs": [],
   "source": [
    "# Define the logit-normal distribution and sample it randomly\n",
    "rv_logitnorm = convFunc.logitnorm_gen(a=0.0, b=1.0)\n",
    "logitnorm_pdf = rv_logitnorm.pdf(x=-x/100, m=m, s=s)\n",
    "logitnorm_pdf[np.isnan(logitnorm_pdf)] = 0 # To avoid nan values (e.g., logit-norm distribution at values of 0 and 1)\n",
    "logitnorm_pdf = logitnorm_pdf/np.sum(logitnorm_pdf) # Normalize so area under the curve = 1\n",
    "logitnorm_n = -rv_logitnorm.rvs(m=m, s=s, size=n)*100"
   ]
  },
  {
   "cell_type": "code",
   "execution_count": null,
   "id": "average-beach",
   "metadata": {},
   "outputs": [],
   "source": [
    "# Add the two random, independent variables (Gaussian and logit-normal)\n",
    "conv_n = norm_n + logitnorm_n"
   ]
  },
  {
   "cell_type": "code",
   "execution_count": null,
   "id": "1aa4b4c1-4fee-4ff6-b86e-9663f14cec36",
   "metadata": {},
   "outputs": [],
   "source": [
    "# Convolve the normal and logit-normal distributions\n",
    "conv_pdf = convolve(logitnorm_pdf, norm_pdf, mode='same')\n",
    "conv_pdf = conv_pdf/np.sum(conv_pdf)"
   ]
  },
  {
   "cell_type": "code",
   "execution_count": null,
   "id": "further-spoke",
   "metadata": {},
   "outputs": [],
   "source": [
    "# Create a figure to illustrate the results\n",
    "fig, axs = plt.subplots(1, 3, figsize=(8, 2))\n",
    "\n",
    "# X-axis plotting limits\n",
    "x_1 = -10\n",
    "x_2 = 10\n",
    "\n",
    "bins = np.arange(x_1, x_2+0.5, 0.5)\n",
    "\n",
    "axs[0].plot(x, norm_pdf, color='black')\n",
    "axs[0].set_ylim(0,)\n",
    "axs[0].set_xlim(x_1, x_2)\n",
    "axs[0].set_yticks([])\n",
    "ax0_hist = axs[0].twinx()\n",
    "ax0_hist.hist(norm_n, alpha=0.5, bins=bins, color='gray')\n",
    "axs[0].set_xlabel('Pb*/U offset (%)')\n",
    "\n",
    "axs[1].plot(x, logitnorm_pdf, color='black')\n",
    "axs[1].set_ylim(0,)\n",
    "axs[1].set_xlim(x_1, 0)\n",
    "axs[1].set_yticks([])\n",
    "ax1_hist = axs[1].twinx()\n",
    "ax1_hist.hist(logitnorm_n, alpha=0.5, bins=bins, color='gray')\n",
    "axs[1].set_xlabel('Pb*/U offset (%)')\n",
    "\n",
    "axs[2].plot(x, conv_pdf, color='black')\n",
    "axs[2].set_ylim(0,)\n",
    "axs[2].set_xlim(x_1, x_2)\n",
    "axs[2].set_yticks([])\n",
    "ax2_hist = axs[2].twinx()\n",
    "ax2_hist.hist(conv_n, alpha=0.5, bins=bins, color='gray');\n",
    "axs[2].set_xlabel('Pb*/U offset (%)')\n",
    "\n",
    "plt.tight_layout()"
   ]
  },
  {
   "cell_type": "code",
   "execution_count": null,
   "id": "micro-hamburg",
   "metadata": {},
   "outputs": [],
   "source": []
  }
 ],
 "metadata": {
  "kernelspec": {
   "display_name": "Python 3 (ipykernel)",
   "language": "python",
   "name": "python3"
  },
  "language_info": {
   "codemirror_mode": {
    "name": "ipython",
    "version": 3
   },
   "file_extension": ".py",
   "mimetype": "text/x-python",
   "name": "python",
   "nbconvert_exporter": "python",
   "pygments_lexer": "ipython3",
   "version": "3.10.9"
  }
 },
 "nbformat": 4,
 "nbformat_minor": 5
}
